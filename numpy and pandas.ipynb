{
 "cells": [
  {
   "cell_type": "markdown",
   "id": "76b22434",
   "metadata": {},
   "source": [
    "# Numpy"
   ]
  },
  {
   "cell_type": "markdown",
   "id": "96970842",
   "metadata": {},
   "source": [
    "# create an array"
   ]
  },
  {
   "cell_type": "code",
   "execution_count": 1,
   "id": "2b8c0762",
   "metadata": {},
   "outputs": [],
   "source": [
    "import numpy as np"
   ]
  },
  {
   "cell_type": "code",
   "execution_count": 2,
   "id": "6839e6a3",
   "metadata": {},
   "outputs": [
    {
     "data": {
      "text/plain": [
       "array([2, 3, 4])"
      ]
     },
     "execution_count": 2,
     "metadata": {},
     "output_type": "execute_result"
    }
   ],
   "source": [
    "simple_list=[2,3,4]\n",
    "np.array(simple_list)"
   ]
  },
  {
   "cell_type": "code",
   "execution_count": 3,
   "id": "dae15b44",
   "metadata": {},
   "outputs": [
    {
     "data": {
      "text/plain": [
       "array([5, 7, 8])"
      ]
     },
     "execution_count": 3,
     "metadata": {},
     "output_type": "execute_result"
    }
   ],
   "source": [
    "arr=np.array([5,7,8])\n",
    "arr"
   ]
  },
  {
   "cell_type": "code",
   "execution_count": 4,
   "id": "382e2258",
   "metadata": {},
   "outputs": [
    {
     "data": {
      "text/plain": [
       "array([[1, 2, 3],\n",
       "       [4, 5, 6],\n",
       "       [7, 8, 9]])"
      ]
     },
     "execution_count": 4,
     "metadata": {},
     "output_type": "execute_result"
    }
   ],
   "source": [
    "list_of_lists=([1,2,3],[4,5,6],[7,8,9])\n",
    "np.array(list_of_lists)"
   ]
  },
  {
   "cell_type": "code",
   "execution_count": 5,
   "id": "3b1fe7d2",
   "metadata": {},
   "outputs": [
    {
     "data": {
      "text/plain": [
       "array([ 5,  6,  7,  8,  9, 10, 11, 12, 13, 14, 15, 16, 17, 18, 19, 20, 21,\n",
       "       22, 23, 24, 25, 26, 27])"
      ]
     },
     "execution_count": 5,
     "metadata": {},
     "output_type": "execute_result"
    }
   ],
   "source": [
    "np.arange(5,28)"
   ]
  },
  {
   "cell_type": "code",
   "execution_count": 6,
   "id": "3ca0fec4",
   "metadata": {},
   "outputs": [
    {
     "data": {
      "text/plain": [
       "array([ 5, 11, 17, 23, 29])"
      ]
     },
     "execution_count": 6,
     "metadata": {},
     "output_type": "execute_result"
    }
   ],
   "source": [
    "np.arange(5,35,6)"
   ]
  },
  {
   "cell_type": "code",
   "execution_count": 7,
   "id": "571c9956",
   "metadata": {},
   "outputs": [
    {
     "data": {
      "text/plain": [
       "array([0., 0., 0., 0., 0., 0.])"
      ]
     },
     "execution_count": 7,
     "metadata": {},
     "output_type": "execute_result"
    }
   ],
   "source": [
    "np.zeros(6)"
   ]
  },
  {
   "cell_type": "code",
   "execution_count": 8,
   "id": "44e2892f",
   "metadata": {},
   "outputs": [
    {
     "data": {
      "text/plain": [
       "array([0, 0, 0, 0, 0, 0])"
      ]
     },
     "execution_count": 8,
     "metadata": {},
     "output_type": "execute_result"
    }
   ],
   "source": [
    "np.zeros(6,dtype=int)"
   ]
  },
  {
   "cell_type": "code",
   "execution_count": 9,
   "id": "c2646dc6",
   "metadata": {},
   "outputs": [
    {
     "data": {
      "text/plain": [
       "array([1., 1., 1., 1., 1.])"
      ]
     },
     "execution_count": 9,
     "metadata": {},
     "output_type": "execute_result"
    }
   ],
   "source": [
    "np.ones(5)"
   ]
  },
  {
   "cell_type": "code",
   "execution_count": 10,
   "id": "649af09c",
   "metadata": {},
   "outputs": [
    {
     "data": {
      "text/plain": [
       "array([1, 1, 1, 1, 1])"
      ]
     },
     "execution_count": 10,
     "metadata": {},
     "output_type": "execute_result"
    }
   ],
   "source": [
    "np.ones(5,dtype=int)"
   ]
  },
  {
   "cell_type": "code",
   "execution_count": 11,
   "id": "0c2d68a5",
   "metadata": {},
   "outputs": [
    {
     "data": {
      "text/plain": [
       "array([[1, 1, 1, 1, 1],\n",
       "       [1, 1, 1, 1, 1]])"
      ]
     },
     "execution_count": 11,
     "metadata": {},
     "output_type": "execute_result"
    }
   ],
   "source": [
    "np.ones((2,5),dtype=int)"
   ]
  },
  {
   "cell_type": "code",
   "execution_count": 12,
   "id": "de54f0a7",
   "metadata": {},
   "outputs": [
    {
     "data": {
      "text/plain": [
       "array([ 0.        ,  2.22222222,  4.44444444,  6.66666667,  8.88888889,\n",
       "       11.11111111, 13.33333333, 15.55555556, 17.77777778, 20.        ])"
      ]
     },
     "execution_count": 12,
     "metadata": {},
     "output_type": "execute_result"
    }
   ],
   "source": [
    "np.linspace(0,20,10)"
   ]
  },
  {
   "cell_type": "code",
   "execution_count": 13,
   "id": "ae7b69b7",
   "metadata": {},
   "outputs": [
    {
     "data": {
      "text/plain": [
       "array([ 0.        ,  0.71428571,  1.42857143,  2.14285714,  2.85714286,\n",
       "        3.57142857,  4.28571429,  5.        ,  5.71428571,  6.42857143,\n",
       "        7.14285714,  7.85714286,  8.57142857,  9.28571429, 10.        ])"
      ]
     },
     "execution_count": 13,
     "metadata": {},
     "output_type": "execute_result"
    }
   ],
   "source": [
    "np.linspace(0,10,15)"
   ]
  },
  {
   "cell_type": "code",
   "execution_count": 14,
   "id": "785e01a4",
   "metadata": {},
   "outputs": [
    {
     "data": {
      "text/plain": [
       "array([[1, 0, 0, 0, 0],\n",
       "       [0, 1, 0, 0, 0],\n",
       "       [0, 0, 1, 0, 0],\n",
       "       [0, 0, 0, 1, 0],\n",
       "       [0, 0, 0, 0, 1]])"
      ]
     },
     "execution_count": 14,
     "metadata": {},
     "output_type": "execute_result"
    }
   ],
   "source": [
    "np.eye(5,dtype=int)"
   ]
  },
  {
   "cell_type": "code",
   "execution_count": 15,
   "id": "99a71838",
   "metadata": {},
   "outputs": [
    {
     "data": {
      "text/plain": [
       "array([[0.75521998, 0.60693786, 0.94831021, 0.33204909],\n",
       "       [0.5440293 , 0.92006559, 0.64577695, 0.83895629]])"
      ]
     },
     "execution_count": 15,
     "metadata": {},
     "output_type": "execute_result"
    }
   ],
   "source": [
    "np.random.rand(2,4)"
   ]
  },
  {
   "cell_type": "code",
   "execution_count": 16,
   "id": "14517118",
   "metadata": {},
   "outputs": [
    {
     "data": {
      "text/plain": [
       "array([[ 0.83263595, -0.67021475, -1.86523117,  0.06582482],\n",
       "       [ 0.14523715, -0.3491256 , -0.46971069,  1.34631242]])"
      ]
     },
     "execution_count": 16,
     "metadata": {},
     "output_type": "execute_result"
    }
   ],
   "source": [
    "np.random.randn(2,4)"
   ]
  },
  {
   "cell_type": "code",
   "execution_count": 17,
   "id": "2ef5fbf0",
   "metadata": {},
   "outputs": [
    {
     "data": {
      "text/plain": [
       "array([[0.71584334, 0.11522142, 0.98352583, 0.49378564, 0.88188908],\n",
       "       [0.04014254, 0.78771788, 0.23608645, 0.09626097, 0.45797604]])"
      ]
     },
     "execution_count": 17,
     "metadata": {},
     "output_type": "execute_result"
    }
   ],
   "source": [
    "np.random.rand(2,5)"
   ]
  },
  {
   "cell_type": "code",
   "execution_count": 18,
   "id": "460404b6",
   "metadata": {},
   "outputs": [
    {
     "data": {
      "text/plain": [
       "array([7, 2, 9, 5, 8, 3, 6, 5, 2, 9, 9, 2, 7, 3, 6])"
      ]
     },
     "execution_count": 18,
     "metadata": {},
     "output_type": "execute_result"
    }
   ],
   "source": [
    "np.random.randint(0,10,15)"
   ]
  },
  {
   "cell_type": "code",
   "execution_count": 19,
   "id": "7ce2e02c",
   "metadata": {},
   "outputs": [
    {
     "data": {
      "text/plain": [
       "array([25, 43, 42, 45, 47, 38, 43, 37, 44, 45, 24, 20, 53, 40, 42, 30, 48,\n",
       "       36, 28, 36, 26, 32, 26, 24, 55, 44, 48, 30, 21, 48, 50, 32, 50, 47,\n",
       "       47, 24, 36, 40, 48, 55, 36, 32, 27, 31, 29, 47, 33, 31, 26, 26, 49,\n",
       "       53, 55, 47, 50, 53, 43, 44, 21, 28, 54, 22, 53, 36, 51, 47, 24, 36,\n",
       "       20, 30, 48, 40, 24, 39, 42, 37, 33, 30, 28, 24, 21, 35, 38, 46, 43,\n",
       "       53, 32, 50, 33, 42, 20, 20, 31, 52, 27, 28, 47, 41, 36, 42])"
      ]
     },
     "execution_count": 19,
     "metadata": {},
     "output_type": "execute_result"
    }
   ],
   "source": [
    "np.random.randint(20,56,100)"
   ]
  },
  {
   "cell_type": "code",
   "execution_count": 20,
   "id": "d4c05cbc",
   "metadata": {},
   "outputs": [
    {
     "data": {
      "text/plain": [
       "array([47, 51, 50, 46, 27, 55, 31, 34, 45, 46, 32, 30, 23, 53, 48, 26, 53,\n",
       "       20, 22, 37, 26, 23, 20, 40, 50, 38, 21, 53, 29, 43, 44, 49, 29, 20,\n",
       "       42, 54, 43, 27, 44, 23, 47, 27, 24, 54, 28, 53, 47, 24, 42, 42, 31,\n",
       "       20, 26, 28, 44, 39, 52, 37, 55, 27, 54, 22, 32, 20, 38, 41, 22, 37,\n",
       "       41, 32, 35, 38, 36, 39, 50, 36, 34, 48, 24, 51, 55, 31, 39, 31, 45,\n",
       "       52, 32, 42, 25, 49, 26, 22, 51, 49, 41, 29, 37, 49, 52, 48])"
      ]
     },
     "execution_count": 20,
     "metadata": {},
     "output_type": "execute_result"
    }
   ],
   "source": [
    "np.random.randint(20,56,100)"
   ]
  },
  {
   "cell_type": "code",
   "execution_count": 21,
   "id": "4fbfa9dc",
   "metadata": {},
   "outputs": [
    {
     "data": {
      "text/plain": [
       "array([ 2,  3,  4,  5,  6,  7,  8,  9, 10, 11, 12, 13, 14, 15, 16, 17, 18,\n",
       "       19])"
      ]
     },
     "execution_count": 21,
     "metadata": {},
     "output_type": "execute_result"
    }
   ],
   "source": [
    "sample_array=np.arange(2,20)\n",
    "sample_array"
   ]
  },
  {
   "cell_type": "code",
   "execution_count": 22,
   "id": "4124b868",
   "metadata": {},
   "outputs": [
    {
     "data": {
      "text/plain": [
       "array([2, 9, 5, 6, 7])"
      ]
     },
     "execution_count": 22,
     "metadata": {},
     "output_type": "execute_result"
    }
   ],
   "source": [
    "rand_array=np.random.randint(0,10,5)\n",
    "rand_array"
   ]
  },
  {
   "cell_type": "code",
   "execution_count": 23,
   "id": "da8774ef",
   "metadata": {},
   "outputs": [
    {
     "data": {
      "text/plain": [
       "0"
      ]
     },
     "execution_count": 23,
     "metadata": {},
     "output_type": "execute_result"
    }
   ],
   "source": [
    "sample_array.argmin()"
   ]
  },
  {
   "cell_type": "code",
   "execution_count": 24,
   "id": "0708f098",
   "metadata": {},
   "outputs": [
    {
     "data": {
      "text/plain": [
       "0"
      ]
     },
     "execution_count": 24,
     "metadata": {},
     "output_type": "execute_result"
    }
   ],
   "source": [
    "rand_array.argmin()"
   ]
  },
  {
   "cell_type": "code",
   "execution_count": 25,
   "id": "80080139",
   "metadata": {},
   "outputs": [
    {
     "data": {
      "text/plain": [
       "9"
      ]
     },
     "execution_count": 25,
     "metadata": {},
     "output_type": "execute_result"
    }
   ],
   "source": [
    "rand_array.max()"
   ]
  },
  {
   "cell_type": "code",
   "execution_count": 26,
   "id": "afb58d78",
   "metadata": {},
   "outputs": [
    {
     "data": {
      "text/plain": [
       "2"
      ]
     },
     "execution_count": 26,
     "metadata": {},
     "output_type": "execute_result"
    }
   ],
   "source": [
    "sample_array.min()"
   ]
  },
  {
   "cell_type": "code",
   "execution_count": 27,
   "id": "1e46498b",
   "metadata": {},
   "outputs": [
    {
     "data": {
      "text/plain": [
       "1"
      ]
     },
     "execution_count": 27,
     "metadata": {},
     "output_type": "execute_result"
    }
   ],
   "source": [
    "rand_array.argmax()"
   ]
  },
  {
   "cell_type": "code",
   "execution_count": 28,
   "id": "0be3cff7",
   "metadata": {},
   "outputs": [
    {
     "data": {
      "text/plain": [
       "17"
      ]
     },
     "execution_count": 28,
     "metadata": {},
     "output_type": "execute_result"
    }
   ],
   "source": [
    "sample_array.argmax()"
   ]
  },
  {
   "cell_type": "code",
   "execution_count": 29,
   "id": "c72b3582",
   "metadata": {},
   "outputs": [
    {
     "data": {
      "text/plain": [
       "dtype('int32')"
      ]
     },
     "execution_count": 29,
     "metadata": {},
     "output_type": "execute_result"
    }
   ],
   "source": [
    "sample_array.dtype"
   ]
  },
  {
   "cell_type": "code",
   "execution_count": 30,
   "id": "b3bbeb68",
   "metadata": {},
   "outputs": [
    {
     "data": {
      "text/plain": [
       "array([[1., 0., 0., 0., 0.],\n",
       "       [0., 1., 0., 0., 0.],\n",
       "       [0., 0., 1., 0., 0.],\n",
       "       [0., 0., 0., 1., 0.],\n",
       "       [0., 0., 0., 0., 1.]])"
      ]
     },
     "execution_count": 30,
     "metadata": {},
     "output_type": "execute_result"
    }
   ],
   "source": [
    "a=np.eye(5)\n",
    "a"
   ]
  },
  {
   "cell_type": "code",
   "execution_count": 31,
   "id": "f879e0ca",
   "metadata": {},
   "outputs": [
    {
     "data": {
      "text/plain": [
       "array([[1., 0., 0., 0., 0.],\n",
       "       [0., 1., 0., 0., 0.],\n",
       "       [0., 0., 1., 0., 0.],\n",
       "       [0., 0., 0., 1., 0.],\n",
       "       [0., 0., 0., 0., 1.]])"
      ]
     },
     "execution_count": 31,
     "metadata": {},
     "output_type": "execute_result"
    }
   ],
   "source": [
    "a.T"
   ]
  },
  {
   "cell_type": "code",
   "execution_count": 32,
   "id": "c6db8103",
   "metadata": {},
   "outputs": [
    {
     "data": {
      "text/plain": [
       "array([10, 11, 12, 13, 14, 15, 16, 17, 18, 19, 20, 21, 22, 23, 24, 25, 26,\n",
       "       27])"
      ]
     },
     "execution_count": 32,
     "metadata": {},
     "output_type": "execute_result"
    }
   ],
   "source": [
    "sample_array=np.arange(10,28)\n",
    "sample_array"
   ]
  },
  {
   "cell_type": "code",
   "execution_count": 33,
   "id": "fcf0b2fb",
   "metadata": {},
   "outputs": [
    {
     "data": {
      "text/plain": [
       "array([[10, 11, 12, 13, 14, 15, 16, 17, 18],\n",
       "       [19, 20, 21, 22, 23, 24, 25, 26, 27]])"
      ]
     },
     "execution_count": 33,
     "metadata": {},
     "output_type": "execute_result"
    }
   ],
   "source": [
    "sample_array=sample_array.reshape(2,9)\n",
    "sample_array"
   ]
  },
  {
   "cell_type": "code",
   "execution_count": 34,
   "id": "924f19c1",
   "metadata": {},
   "outputs": [
    {
     "ename": "ValueError",
     "evalue": "cannot reshape array of size 18 into shape (3,4)",
     "output_type": "error",
     "traceback": [
      "\u001b[1;31m---------------------------------------------------------------------------\u001b[0m",
      "\u001b[1;31mValueError\u001b[0m                                Traceback (most recent call last)",
      "\u001b[1;32m<ipython-input-34-8ea8b3d72c0b>\u001b[0m in \u001b[0;36m<module>\u001b[1;34m\u001b[0m\n\u001b[1;32m----> 1\u001b[1;33m \u001b[0msample_array\u001b[0m\u001b[1;33m=\u001b[0m\u001b[0msample_array\u001b[0m\u001b[1;33m.\u001b[0m\u001b[0mreshape\u001b[0m\u001b[1;33m(\u001b[0m\u001b[1;36m3\u001b[0m\u001b[1;33m,\u001b[0m\u001b[1;36m4\u001b[0m\u001b[1;33m)\u001b[0m\u001b[1;33m\u001b[0m\u001b[1;33m\u001b[0m\u001b[0m\n\u001b[0m\u001b[0;32m      2\u001b[0m \u001b[0msample_array\u001b[0m\u001b[1;33m\u001b[0m\u001b[1;33m\u001b[0m\u001b[0m\n",
      "\u001b[1;31mValueError\u001b[0m: cannot reshape array of size 18 into shape (3,4)"
     ]
    }
   ],
   "source": [
    "sample_array=sample_array.reshape(3,4)\n",
    "sample_array"
   ]
  },
  {
   "cell_type": "code",
   "execution_count": null,
   "id": "965c3282",
   "metadata": {},
   "outputs": [],
   "source": [
    "sample_array[1]=100\n",
    "sample_array"
   ]
  },
  {
   "cell_type": "code",
   "execution_count": null,
   "id": "161adffe",
   "metadata": {},
   "outputs": [],
   "source": [
    "sample_array=np.arange(10,100)\n",
    "sample_array"
   ]
  },
  {
   "cell_type": "code",
   "execution_count": null,
   "id": "042ce2fd",
   "metadata": {
    "scrolled": true
   },
   "outputs": [],
   "source": [
    "sample_array[1:12]"
   ]
  },
  {
   "cell_type": "code",
   "execution_count": 35,
   "id": "67fc732e",
   "metadata": {},
   "outputs": [
    {
     "data": {
      "text/plain": [
       "array([[1001, 1001, 1001, 1001, 1001, 1001, 1001, 1001, 1001],\n",
       "       [1001, 1001, 1001, 1001, 1001, 1001, 1001, 1001, 1001]])"
      ]
     },
     "execution_count": 35,
     "metadata": {},
     "output_type": "execute_result"
    }
   ],
   "source": [
    "sample_array[:]=1001\n",
    "sample_array"
   ]
  },
  {
   "cell_type": "markdown",
   "id": "6a496fe4",
   "metadata": {},
   "source": [
    "# Two-Dimensional array"
   ]
  },
  {
   "cell_type": "code",
   "execution_count": null,
   "id": "32350bdc",
   "metadata": {},
   "outputs": [],
   "source": [
    "import numpy as np"
   ]
  },
  {
   "cell_type": "code",
   "execution_count": null,
   "id": "7e7dffc8",
   "metadata": {},
   "outputs": [],
   "source": [
    "sample_matrix=np.array(([21,13,2,15],[15,2,54,65],[56,76,24,7]))\n",
    "sample_matrix"
   ]
  },
  {
   "cell_type": "code",
   "execution_count": null,
   "id": "42440fbc",
   "metadata": {},
   "outputs": [],
   "source": [
    "sample_matrix[2][2]"
   ]
  },
  {
   "cell_type": "code",
   "execution_count": null,
   "id": "1a154053",
   "metadata": {},
   "outputs": [],
   "source": [
    "sample_matrix[1][2]"
   ]
  },
  {
   "cell_type": "code",
   "execution_count": null,
   "id": "c7cd2e7a",
   "metadata": {},
   "outputs": [],
   "source": [
    "sample_matrix[:,2]"
   ]
  },
  {
   "cell_type": "code",
   "execution_count": null,
   "id": "d624e5e5",
   "metadata": {},
   "outputs": [],
   "source": [
    "sample_matrix[1,1]"
   ]
  },
  {
   "cell_type": "code",
   "execution_count": null,
   "id": "a53d4e49",
   "metadata": {},
   "outputs": [],
   "source": [
    "sample_matrix[1:3,2:4]"
   ]
  },
  {
   "cell_type": "code",
   "execution_count": null,
   "id": "be9d78b4",
   "metadata": {},
   "outputs": [],
   "source": [
    "sample_matrix[1:,2:]"
   ]
  },
  {
   "cell_type": "code",
   "execution_count": null,
   "id": "6b252081",
   "metadata": {},
   "outputs": [],
   "source": [
    "sample_matrix[2]"
   ]
  },
  {
   "cell_type": "code",
   "execution_count": null,
   "id": "cddf8087",
   "metadata": {},
   "outputs": [],
   "source": []
  },
  {
   "cell_type": "markdown",
   "id": "6749834e",
   "metadata": {},
   "source": [
    "# Pandas"
   ]
  },
  {
   "cell_type": "code",
   "execution_count": 1,
   "id": "b746c4b2",
   "metadata": {},
   "outputs": [],
   "source": [
    "import pandas as pd"
   ]
  },
  {
   "cell_type": "code",
   "execution_count": 2,
   "id": "0223ef14",
   "metadata": {},
   "outputs": [],
   "source": [
    "labels=['a','b','c','d']"
   ]
  },
  {
   "cell_type": "code",
   "execution_count": 3,
   "id": "883e3886",
   "metadata": {},
   "outputs": [],
   "source": [
    "list=[10,20,38,40]"
   ]
  },
  {
   "cell_type": "code",
   "execution_count": 4,
   "id": "88b8018c",
   "metadata": {},
   "outputs": [],
   "source": [
    "import numpy as np"
   ]
  },
  {
   "cell_type": "code",
   "execution_count": 5,
   "id": "7b9f29b8",
   "metadata": {},
   "outputs": [],
   "source": [
    "array=np.array([1,2,3,4])"
   ]
  },
  {
   "cell_type": "code",
   "execution_count": 7,
   "id": "db4a19b9",
   "metadata": {},
   "outputs": [],
   "source": [
    "dict={'w':10,'x':20,'y':30,'z':40}"
   ]
  },
  {
   "cell_type": "code",
   "execution_count": 8,
   "id": "1797c2f7",
   "metadata": {},
   "outputs": [
    {
     "data": {
      "text/plain": [
       "0    10\n",
       "1    20\n",
       "2    38\n",
       "3    40\n",
       "dtype: int64"
      ]
     },
     "execution_count": 8,
     "metadata": {},
     "output_type": "execute_result"
    }
   ],
   "source": [
    "pd.Series(data=list)"
   ]
  },
  {
   "cell_type": "code",
   "execution_count": 9,
   "id": "0b614413",
   "metadata": {},
   "outputs": [
    {
     "data": {
      "text/plain": [
       "a    10\n",
       "b    20\n",
       "c    38\n",
       "d    40\n",
       "dtype: int64"
      ]
     },
     "execution_count": 9,
     "metadata": {},
     "output_type": "execute_result"
    }
   ],
   "source": [
    "pd.Series(data=list,index=labels)"
   ]
  },
  {
   "cell_type": "code",
   "execution_count": 10,
   "id": "3a5e91b1",
   "metadata": {},
   "outputs": [
    {
     "data": {
      "text/plain": [
       "10    a\n",
       "20    b\n",
       "38    c\n",
       "40    d\n",
       "dtype: object"
      ]
     },
     "execution_count": 10,
     "metadata": {},
     "output_type": "execute_result"
    }
   ],
   "source": [
    "pd.Series(labels,list)"
   ]
  },
  {
   "cell_type": "code",
   "execution_count": 11,
   "id": "b5605d1b",
   "metadata": {},
   "outputs": [
    {
     "data": {
      "text/plain": [
       "w    10\n",
       "x    20\n",
       "y    30\n",
       "z    40\n",
       "dtype: int64"
      ]
     },
     "execution_count": 11,
     "metadata": {},
     "output_type": "execute_result"
    }
   ],
   "source": [
    "pd.Series(dict)"
   ]
  },
  {
   "cell_type": "markdown",
   "id": "61bd5c31",
   "metadata": {},
   "source": [
    "# Pandas Dataframe and Indexing"
   ]
  },
  {
   "cell_type": "code",
   "execution_count": 12,
   "id": "73f2889e",
   "metadata": {},
   "outputs": [
    {
     "data": {
      "text/plain": [
       "cricket       1\n",
       "football      2\n",
       "basketball    3\n",
       "golf          4\n",
       "dtype: int64"
      ]
     },
     "execution_count": 12,
     "metadata": {},
     "output_type": "execute_result"
    }
   ],
   "source": [
    "sports1=pd.Series([1,2,3,4],index=['cricket','football','basketball','golf'])\n",
    "sports1"
   ]
  },
  {
   "cell_type": "code",
   "execution_count": 13,
   "id": "d595ebea",
   "metadata": {},
   "outputs": [
    {
     "data": {
      "text/plain": [
       "3"
      ]
     },
     "execution_count": 13,
     "metadata": {},
     "output_type": "execute_result"
    }
   ],
   "source": [
    "sports1['basketball']"
   ]
  },
  {
   "cell_type": "code",
   "execution_count": 14,
   "id": "b1ed6f2a",
   "metadata": {},
   "outputs": [
    {
     "data": {
      "text/plain": [
       "cricket     11\n",
       "football    13\n",
       "baseball    12\n",
       "golf         4\n",
       "dtype: int64"
      ]
     },
     "execution_count": 14,
     "metadata": {},
     "output_type": "execute_result"
    }
   ],
   "source": [
    "sports2=pd.Series([11,13,12,4],index=['cricket','football','baseball','golf'])\n",
    "sports2"
   ]
  },
  {
   "cell_type": "code",
   "execution_count": 15,
   "id": "0fc8f16c",
   "metadata": {},
   "outputs": [
    {
     "data": {
      "text/plain": [
       "baseball       NaN\n",
       "basketball     NaN\n",
       "cricket       12.0\n",
       "football      15.0\n",
       "golf           8.0\n",
       "dtype: float64"
      ]
     },
     "execution_count": 15,
     "metadata": {},
     "output_type": "execute_result"
    }
   ],
   "source": [
    "sports1+sports2"
   ]
  },
  {
   "cell_type": "code",
   "execution_count": null,
   "id": "94e78e07",
   "metadata": {},
   "outputs": [],
   "source": []
  },
  {
   "cell_type": "code",
   "execution_count": 18,
   "id": "40f78070",
   "metadata": {},
   "outputs": [
    {
     "data": {
      "text/html": [
       "<div>\n",
       "<style scoped>\n",
       "    .dataframe tbody tr th:only-of-type {\n",
       "        vertical-align: middle;\n",
       "    }\n",
       "\n",
       "    .dataframe tbody tr th {\n",
       "        vertical-align: top;\n",
       "    }\n",
       "\n",
       "    .dataframe thead th {\n",
       "        text-align: right;\n",
       "    }\n",
       "</style>\n",
       "<table border=\"1\" class=\"dataframe\">\n",
       "  <thead>\n",
       "    <tr style=\"text-align: right;\">\n",
       "      <th></th>\n",
       "      <th>Score1</th>\n",
       "      <th>Score2</th>\n",
       "      <th>Score3</th>\n",
       "      <th>Score4</th>\n",
       "      <th>Score5</th>\n",
       "    </tr>\n",
       "  </thead>\n",
       "  <tbody>\n",
       "    <tr>\n",
       "      <th>A</th>\n",
       "      <td>0.598430</td>\n",
       "      <td>0.203180</td>\n",
       "      <td>0.605469</td>\n",
       "      <td>0.979245</td>\n",
       "      <td>0.242468</td>\n",
       "    </tr>\n",
       "    <tr>\n",
       "      <th>B</th>\n",
       "      <td>0.871359</td>\n",
       "      <td>0.572849</td>\n",
       "      <td>0.675962</td>\n",
       "      <td>0.212282</td>\n",
       "      <td>0.082555</td>\n",
       "    </tr>\n",
       "    <tr>\n",
       "      <th>C</th>\n",
       "      <td>0.465798</td>\n",
       "      <td>0.799011</td>\n",
       "      <td>0.645066</td>\n",
       "      <td>0.722934</td>\n",
       "      <td>0.405058</td>\n",
       "    </tr>\n",
       "    <tr>\n",
       "      <th>D</th>\n",
       "      <td>0.841206</td>\n",
       "      <td>0.571713</td>\n",
       "      <td>0.361300</td>\n",
       "      <td>0.280473</td>\n",
       "      <td>0.641705</td>\n",
       "    </tr>\n",
       "    <tr>\n",
       "      <th>E</th>\n",
       "      <td>0.943390</td>\n",
       "      <td>0.745308</td>\n",
       "      <td>0.151005</td>\n",
       "      <td>0.951462</td>\n",
       "      <td>0.249458</td>\n",
       "    </tr>\n",
       "    <tr>\n",
       "      <th>F</th>\n",
       "      <td>0.668108</td>\n",
       "      <td>0.641519</td>\n",
       "      <td>0.996323</td>\n",
       "      <td>0.625323</td>\n",
       "      <td>0.133343</td>\n",
       "    </tr>\n",
       "    <tr>\n",
       "      <th>G</th>\n",
       "      <td>0.105319</td>\n",
       "      <td>0.477577</td>\n",
       "      <td>0.069682</td>\n",
       "      <td>0.417584</td>\n",
       "      <td>0.181837</td>\n",
       "    </tr>\n",
       "    <tr>\n",
       "      <th>H</th>\n",
       "      <td>0.057303</td>\n",
       "      <td>0.391236</td>\n",
       "      <td>0.593398</td>\n",
       "      <td>0.257260</td>\n",
       "      <td>0.356684</td>\n",
       "    </tr>\n",
       "  </tbody>\n",
       "</table>\n",
       "</div>"
      ],
      "text/plain": [
       "     Score1    Score2    Score3    Score4    Score5\n",
       "A  0.598430  0.203180  0.605469  0.979245  0.242468\n",
       "B  0.871359  0.572849  0.675962  0.212282  0.082555\n",
       "C  0.465798  0.799011  0.645066  0.722934  0.405058\n",
       "D  0.841206  0.571713  0.361300  0.280473  0.641705\n",
       "E  0.943390  0.745308  0.151005  0.951462  0.249458\n",
       "F  0.668108  0.641519  0.996323  0.625323  0.133343\n",
       "G  0.105319  0.477577  0.069682  0.417584  0.181837\n",
       "H  0.057303  0.391236  0.593398  0.257260  0.356684"
      ]
     },
     "execution_count": 18,
     "metadata": {},
     "output_type": "execute_result"
    }
   ],
   "source": [
    "df1=pd.DataFrame(np.random.rand(8,5),index='A B C D E F G H'.split(),columns='Score1 Score2 Score3 Score4 Score5'.split())\n",
    "df1"
   ]
  },
  {
   "cell_type": "code",
   "execution_count": 19,
   "id": "72e65bc0",
   "metadata": {},
   "outputs": [
    {
     "data": {
      "text/html": [
       "<div>\n",
       "<style scoped>\n",
       "    .dataframe tbody tr th:only-of-type {\n",
       "        vertical-align: middle;\n",
       "    }\n",
       "\n",
       "    .dataframe tbody tr th {\n",
       "        vertical-align: top;\n",
       "    }\n",
       "\n",
       "    .dataframe thead th {\n",
       "        text-align: right;\n",
       "    }\n",
       "</style>\n",
       "<table border=\"1\" class=\"dataframe\">\n",
       "  <thead>\n",
       "    <tr style=\"text-align: right;\">\n",
       "      <th></th>\n",
       "      <th>Score2</th>\n",
       "      <th>Score1</th>\n",
       "      <th>Score5</th>\n",
       "    </tr>\n",
       "  </thead>\n",
       "  <tbody>\n",
       "    <tr>\n",
       "      <th>A</th>\n",
       "      <td>0.203180</td>\n",
       "      <td>0.598430</td>\n",
       "      <td>0.242468</td>\n",
       "    </tr>\n",
       "    <tr>\n",
       "      <th>B</th>\n",
       "      <td>0.572849</td>\n",
       "      <td>0.871359</td>\n",
       "      <td>0.082555</td>\n",
       "    </tr>\n",
       "    <tr>\n",
       "      <th>C</th>\n",
       "      <td>0.799011</td>\n",
       "      <td>0.465798</td>\n",
       "      <td>0.405058</td>\n",
       "    </tr>\n",
       "    <tr>\n",
       "      <th>D</th>\n",
       "      <td>0.571713</td>\n",
       "      <td>0.841206</td>\n",
       "      <td>0.641705</td>\n",
       "    </tr>\n",
       "    <tr>\n",
       "      <th>E</th>\n",
       "      <td>0.745308</td>\n",
       "      <td>0.943390</td>\n",
       "      <td>0.249458</td>\n",
       "    </tr>\n",
       "    <tr>\n",
       "      <th>F</th>\n",
       "      <td>0.641519</td>\n",
       "      <td>0.668108</td>\n",
       "      <td>0.133343</td>\n",
       "    </tr>\n",
       "    <tr>\n",
       "      <th>G</th>\n",
       "      <td>0.477577</td>\n",
       "      <td>0.105319</td>\n",
       "      <td>0.181837</td>\n",
       "    </tr>\n",
       "    <tr>\n",
       "      <th>H</th>\n",
       "      <td>0.391236</td>\n",
       "      <td>0.057303</td>\n",
       "      <td>0.356684</td>\n",
       "    </tr>\n",
       "  </tbody>\n",
       "</table>\n",
       "</div>"
      ],
      "text/plain": [
       "     Score2    Score1    Score5\n",
       "A  0.203180  0.598430  0.242468\n",
       "B  0.572849  0.871359  0.082555\n",
       "C  0.799011  0.465798  0.405058\n",
       "D  0.571713  0.841206  0.641705\n",
       "E  0.745308  0.943390  0.249458\n",
       "F  0.641519  0.668108  0.133343\n",
       "G  0.477577  0.105319  0.181837\n",
       "H  0.391236  0.057303  0.356684"
      ]
     },
     "execution_count": 19,
     "metadata": {},
     "output_type": "execute_result"
    }
   ],
   "source": [
    "df1[['Score2','Score1','Score5']]"
   ]
  },
  {
   "cell_type": "code",
   "execution_count": 21,
   "id": "33fe112c",
   "metadata": {},
   "outputs": [
    {
     "data": {
      "text/html": [
       "<div>\n",
       "<style scoped>\n",
       "    .dataframe tbody tr th:only-of-type {\n",
       "        vertical-align: middle;\n",
       "    }\n",
       "\n",
       "    .dataframe tbody tr th {\n",
       "        vertical-align: top;\n",
       "    }\n",
       "\n",
       "    .dataframe thead th {\n",
       "        text-align: right;\n",
       "    }\n",
       "</style>\n",
       "<table border=\"1\" class=\"dataframe\">\n",
       "  <thead>\n",
       "    <tr style=\"text-align: right;\">\n",
       "      <th></th>\n",
       "      <th>Score1</th>\n",
       "      <th>Score2</th>\n",
       "      <th>Score3</th>\n",
       "      <th>Score4</th>\n",
       "      <th>Score5</th>\n",
       "      <th>Score6</th>\n",
       "    </tr>\n",
       "  </thead>\n",
       "  <tbody>\n",
       "    <tr>\n",
       "      <th>A</th>\n",
       "      <td>0.598430</td>\n",
       "      <td>0.203180</td>\n",
       "      <td>0.605469</td>\n",
       "      <td>0.979245</td>\n",
       "      <td>0.242468</td>\n",
       "      <td>0.395250</td>\n",
       "    </tr>\n",
       "    <tr>\n",
       "      <th>B</th>\n",
       "      <td>0.871359</td>\n",
       "      <td>0.572849</td>\n",
       "      <td>0.675962</td>\n",
       "      <td>0.212282</td>\n",
       "      <td>0.082555</td>\n",
       "      <td>0.298511</td>\n",
       "    </tr>\n",
       "    <tr>\n",
       "      <th>C</th>\n",
       "      <td>0.465798</td>\n",
       "      <td>0.799011</td>\n",
       "      <td>0.645066</td>\n",
       "      <td>0.722934</td>\n",
       "      <td>0.405058</td>\n",
       "      <td>-0.333212</td>\n",
       "    </tr>\n",
       "    <tr>\n",
       "      <th>D</th>\n",
       "      <td>0.841206</td>\n",
       "      <td>0.571713</td>\n",
       "      <td>0.361300</td>\n",
       "      <td>0.280473</td>\n",
       "      <td>0.641705</td>\n",
       "      <td>0.269494</td>\n",
       "    </tr>\n",
       "    <tr>\n",
       "      <th>E</th>\n",
       "      <td>0.943390</td>\n",
       "      <td>0.745308</td>\n",
       "      <td>0.151005</td>\n",
       "      <td>0.951462</td>\n",
       "      <td>0.249458</td>\n",
       "      <td>0.198082</td>\n",
       "    </tr>\n",
       "    <tr>\n",
       "      <th>F</th>\n",
       "      <td>0.668108</td>\n",
       "      <td>0.641519</td>\n",
       "      <td>0.996323</td>\n",
       "      <td>0.625323</td>\n",
       "      <td>0.133343</td>\n",
       "      <td>0.026589</td>\n",
       "    </tr>\n",
       "    <tr>\n",
       "      <th>G</th>\n",
       "      <td>0.105319</td>\n",
       "      <td>0.477577</td>\n",
       "      <td>0.069682</td>\n",
       "      <td>0.417584</td>\n",
       "      <td>0.181837</td>\n",
       "      <td>-0.372257</td>\n",
       "    </tr>\n",
       "    <tr>\n",
       "      <th>H</th>\n",
       "      <td>0.057303</td>\n",
       "      <td>0.391236</td>\n",
       "      <td>0.593398</td>\n",
       "      <td>0.257260</td>\n",
       "      <td>0.356684</td>\n",
       "      <td>-0.333932</td>\n",
       "    </tr>\n",
       "  </tbody>\n",
       "</table>\n",
       "</div>"
      ],
      "text/plain": [
       "     Score1    Score2    Score3    Score4    Score5    Score6\n",
       "A  0.598430  0.203180  0.605469  0.979245  0.242468  0.395250\n",
       "B  0.871359  0.572849  0.675962  0.212282  0.082555  0.298511\n",
       "C  0.465798  0.799011  0.645066  0.722934  0.405058 -0.333212\n",
       "D  0.841206  0.571713  0.361300  0.280473  0.641705  0.269494\n",
       "E  0.943390  0.745308  0.151005  0.951462  0.249458  0.198082\n",
       "F  0.668108  0.641519  0.996323  0.625323  0.133343  0.026589\n",
       "G  0.105319  0.477577  0.069682  0.417584  0.181837 -0.372257\n",
       "H  0.057303  0.391236  0.593398  0.257260  0.356684 -0.333932"
      ]
     },
     "execution_count": 21,
     "metadata": {},
     "output_type": "execute_result"
    }
   ],
   "source": [
    "df1['Score6']=df1['Score1']-df1['Score2']\n",
    "df1"
   ]
  },
  {
   "cell_type": "code",
   "execution_count": 22,
   "id": "56799c36",
   "metadata": {},
   "outputs": [
    {
     "data": {
      "text/html": [
       "<div>\n",
       "<style scoped>\n",
       "    .dataframe tbody tr th:only-of-type {\n",
       "        vertical-align: middle;\n",
       "    }\n",
       "\n",
       "    .dataframe tbody tr th {\n",
       "        vertical-align: top;\n",
       "    }\n",
       "\n",
       "    .dataframe thead th {\n",
       "        text-align: right;\n",
       "    }\n",
       "</style>\n",
       "<table border=\"1\" class=\"dataframe\">\n",
       "  <thead>\n",
       "    <tr style=\"text-align: right;\">\n",
       "      <th></th>\n",
       "      <th>Score1</th>\n",
       "      <th>Score2</th>\n",
       "      <th>Score3</th>\n",
       "      <th>Score4</th>\n",
       "      <th>Score6</th>\n",
       "    </tr>\n",
       "  </thead>\n",
       "  <tbody>\n",
       "    <tr>\n",
       "      <th>A</th>\n",
       "      <td>0.598430</td>\n",
       "      <td>0.203180</td>\n",
       "      <td>0.605469</td>\n",
       "      <td>0.979245</td>\n",
       "      <td>0.395250</td>\n",
       "    </tr>\n",
       "    <tr>\n",
       "      <th>B</th>\n",
       "      <td>0.871359</td>\n",
       "      <td>0.572849</td>\n",
       "      <td>0.675962</td>\n",
       "      <td>0.212282</td>\n",
       "      <td>0.298511</td>\n",
       "    </tr>\n",
       "    <tr>\n",
       "      <th>C</th>\n",
       "      <td>0.465798</td>\n",
       "      <td>0.799011</td>\n",
       "      <td>0.645066</td>\n",
       "      <td>0.722934</td>\n",
       "      <td>-0.333212</td>\n",
       "    </tr>\n",
       "    <tr>\n",
       "      <th>D</th>\n",
       "      <td>0.841206</td>\n",
       "      <td>0.571713</td>\n",
       "      <td>0.361300</td>\n",
       "      <td>0.280473</td>\n",
       "      <td>0.269494</td>\n",
       "    </tr>\n",
       "    <tr>\n",
       "      <th>E</th>\n",
       "      <td>0.943390</td>\n",
       "      <td>0.745308</td>\n",
       "      <td>0.151005</td>\n",
       "      <td>0.951462</td>\n",
       "      <td>0.198082</td>\n",
       "    </tr>\n",
       "    <tr>\n",
       "      <th>F</th>\n",
       "      <td>0.668108</td>\n",
       "      <td>0.641519</td>\n",
       "      <td>0.996323</td>\n",
       "      <td>0.625323</td>\n",
       "      <td>0.026589</td>\n",
       "    </tr>\n",
       "    <tr>\n",
       "      <th>G</th>\n",
       "      <td>0.105319</td>\n",
       "      <td>0.477577</td>\n",
       "      <td>0.069682</td>\n",
       "      <td>0.417584</td>\n",
       "      <td>-0.372257</td>\n",
       "    </tr>\n",
       "    <tr>\n",
       "      <th>H</th>\n",
       "      <td>0.057303</td>\n",
       "      <td>0.391236</td>\n",
       "      <td>0.593398</td>\n",
       "      <td>0.257260</td>\n",
       "      <td>-0.333932</td>\n",
       "    </tr>\n",
       "  </tbody>\n",
       "</table>\n",
       "</div>"
      ],
      "text/plain": [
       "     Score1    Score2    Score3    Score4    Score6\n",
       "A  0.598430  0.203180  0.605469  0.979245  0.395250\n",
       "B  0.871359  0.572849  0.675962  0.212282  0.298511\n",
       "C  0.465798  0.799011  0.645066  0.722934 -0.333212\n",
       "D  0.841206  0.571713  0.361300  0.280473  0.269494\n",
       "E  0.943390  0.745308  0.151005  0.951462  0.198082\n",
       "F  0.668108  0.641519  0.996323  0.625323  0.026589\n",
       "G  0.105319  0.477577  0.069682  0.417584 -0.372257\n",
       "H  0.057303  0.391236  0.593398  0.257260 -0.333932"
      ]
     },
     "execution_count": 22,
     "metadata": {},
     "output_type": "execute_result"
    }
   ],
   "source": [
    "df1.drop('Score5',axis=1)"
   ]
  },
  {
   "cell_type": "code",
   "execution_count": 23,
   "id": "d718e9e8",
   "metadata": {},
   "outputs": [
    {
     "data": {
      "text/html": [
       "<div>\n",
       "<style scoped>\n",
       "    .dataframe tbody tr th:only-of-type {\n",
       "        vertical-align: middle;\n",
       "    }\n",
       "\n",
       "    .dataframe tbody tr th {\n",
       "        vertical-align: top;\n",
       "    }\n",
       "\n",
       "    .dataframe thead th {\n",
       "        text-align: right;\n",
       "    }\n",
       "</style>\n",
       "<table border=\"1\" class=\"dataframe\">\n",
       "  <thead>\n",
       "    <tr style=\"text-align: right;\">\n",
       "      <th></th>\n",
       "      <th>Score1</th>\n",
       "      <th>Score2</th>\n",
       "      <th>Score3</th>\n",
       "      <th>Score4</th>\n",
       "      <th>Score5</th>\n",
       "      <th>Score6</th>\n",
       "    </tr>\n",
       "  </thead>\n",
       "  <tbody>\n",
       "    <tr>\n",
       "      <th>A</th>\n",
       "      <td>0.598430</td>\n",
       "      <td>0.203180</td>\n",
       "      <td>0.605469</td>\n",
       "      <td>0.979245</td>\n",
       "      <td>0.242468</td>\n",
       "      <td>0.395250</td>\n",
       "    </tr>\n",
       "    <tr>\n",
       "      <th>B</th>\n",
       "      <td>0.871359</td>\n",
       "      <td>0.572849</td>\n",
       "      <td>0.675962</td>\n",
       "      <td>0.212282</td>\n",
       "      <td>0.082555</td>\n",
       "      <td>0.298511</td>\n",
       "    </tr>\n",
       "    <tr>\n",
       "      <th>C</th>\n",
       "      <td>0.465798</td>\n",
       "      <td>0.799011</td>\n",
       "      <td>0.645066</td>\n",
       "      <td>0.722934</td>\n",
       "      <td>0.405058</td>\n",
       "      <td>-0.333212</td>\n",
       "    </tr>\n",
       "    <tr>\n",
       "      <th>D</th>\n",
       "      <td>0.841206</td>\n",
       "      <td>0.571713</td>\n",
       "      <td>0.361300</td>\n",
       "      <td>0.280473</td>\n",
       "      <td>0.641705</td>\n",
       "      <td>0.269494</td>\n",
       "    </tr>\n",
       "    <tr>\n",
       "      <th>F</th>\n",
       "      <td>0.668108</td>\n",
       "      <td>0.641519</td>\n",
       "      <td>0.996323</td>\n",
       "      <td>0.625323</td>\n",
       "      <td>0.133343</td>\n",
       "      <td>0.026589</td>\n",
       "    </tr>\n",
       "    <tr>\n",
       "      <th>G</th>\n",
       "      <td>0.105319</td>\n",
       "      <td>0.477577</td>\n",
       "      <td>0.069682</td>\n",
       "      <td>0.417584</td>\n",
       "      <td>0.181837</td>\n",
       "      <td>-0.372257</td>\n",
       "    </tr>\n",
       "    <tr>\n",
       "      <th>H</th>\n",
       "      <td>0.057303</td>\n",
       "      <td>0.391236</td>\n",
       "      <td>0.593398</td>\n",
       "      <td>0.257260</td>\n",
       "      <td>0.356684</td>\n",
       "      <td>-0.333932</td>\n",
       "    </tr>\n",
       "  </tbody>\n",
       "</table>\n",
       "</div>"
      ],
      "text/plain": [
       "     Score1    Score2    Score3    Score4    Score5    Score6\n",
       "A  0.598430  0.203180  0.605469  0.979245  0.242468  0.395250\n",
       "B  0.871359  0.572849  0.675962  0.212282  0.082555  0.298511\n",
       "C  0.465798  0.799011  0.645066  0.722934  0.405058 -0.333212\n",
       "D  0.841206  0.571713  0.361300  0.280473  0.641705  0.269494\n",
       "F  0.668108  0.641519  0.996323  0.625323  0.133343  0.026589\n",
       "G  0.105319  0.477577  0.069682  0.417584  0.181837 -0.372257\n",
       "H  0.057303  0.391236  0.593398  0.257260  0.356684 -0.333932"
      ]
     },
     "execution_count": 23,
     "metadata": {},
     "output_type": "execute_result"
    }
   ],
   "source": [
    "df1.drop('E')"
   ]
  },
  {
   "cell_type": "code",
   "execution_count": 29,
   "id": "a1022f70",
   "metadata": {},
   "outputs": [
    {
     "data": {
      "text/html": [
       "<div>\n",
       "<style scoped>\n",
       "    .dataframe tbody tr th:only-of-type {\n",
       "        vertical-align: middle;\n",
       "    }\n",
       "\n",
       "    .dataframe tbody tr th {\n",
       "        vertical-align: top;\n",
       "    }\n",
       "\n",
       "    .dataframe thead th {\n",
       "        text-align: right;\n",
       "    }\n",
       "</style>\n",
       "<table border=\"1\" class=\"dataframe\">\n",
       "  <thead>\n",
       "    <tr style=\"text-align: right;\">\n",
       "      <th></th>\n",
       "      <th>ID</th>\n",
       "      <th>Name</th>\n",
       "      <th>Profit</th>\n",
       "    </tr>\n",
       "  </thead>\n",
       "  <tbody>\n",
       "    <tr>\n",
       "      <th>0</th>\n",
       "      <td>101</td>\n",
       "      <td>john</td>\n",
       "      <td>20</td>\n",
       "    </tr>\n",
       "    <tr>\n",
       "      <th>1</th>\n",
       "      <td>102</td>\n",
       "      <td>mercy</td>\n",
       "      <td>30</td>\n",
       "    </tr>\n",
       "    <tr>\n",
       "      <th>2</th>\n",
       "      <td>103</td>\n",
       "      <td>akash</td>\n",
       "      <td>40</td>\n",
       "    </tr>\n",
       "    <tr>\n",
       "      <th>3</th>\n",
       "      <td>104</td>\n",
       "      <td>kavin</td>\n",
       "      <td>50</td>\n",
       "    </tr>\n",
       "    <tr>\n",
       "      <th>4</th>\n",
       "      <td>105</td>\n",
       "      <td>lala</td>\n",
       "      <td>60</td>\n",
       "    </tr>\n",
       "  </tbody>\n",
       "</table>\n",
       "</div>"
      ],
      "text/plain": [
       "    ID   Name Profit\n",
       "0  101   john     20\n",
       "1  102  mercy     30\n",
       "2  103  akash     40\n",
       "3  104  kavin     50\n",
       "4  105   lala     60"
      ]
     },
     "execution_count": 29,
     "metadata": {},
     "output_type": "execute_result"
    }
   ],
   "source": [
    "df2={'ID':[101,102,103,104,105],'Name':['john','mercy','akash','kavin','lala'],'Profit':['20','30','40','50','60']}\n",
    "df=pd.DataFrame(df2)\n",
    "df"
   ]
  },
  {
   "cell_type": "code",
   "execution_count": null,
   "id": "cd12c3e6",
   "metadata": {},
   "outputs": [],
   "source": []
  },
  {
   "cell_type": "markdown",
   "id": "d3ab2abf",
   "metadata": {},
   "source": [
    "## Assessment\n",
    "1. Create a null vector of size 10\n",
    "2. Create a null vector of size 10 but the fifth value should be one\n",
    "3. Create a vector with values ranging from 10 to 65\n",
    "4. Reverse a above vector\n",
    "5. Create a 3x3 matrix with values ranging from 0 to 8"
   ]
  },
  {
   "cell_type": "code",
   "execution_count": 30,
   "id": "5de0e0f9",
   "metadata": {},
   "outputs": [],
   "source": [
    "import numpy as np"
   ]
  },
  {
   "cell_type": "code",
   "execution_count": 34,
   "id": "4485dda7",
   "metadata": {},
   "outputs": [
    {
     "data": {
      "text/plain": [
       "array([0., 0., 0., 0., 0., 0., 0., 0., 0., 0.])"
      ]
     },
     "execution_count": 34,
     "metadata": {},
     "output_type": "execute_result"
    }
   ],
   "source": [
    "np.zeros(10)"
   ]
  },
  {
   "cell_type": "code",
   "execution_count": 36,
   "id": "25593d83",
   "metadata": {},
   "outputs": [
    {
     "data": {
      "text/plain": [
       "array([0., 0., 0., 0., 1., 0., 0., 0., 0., 0.])"
      ]
     },
     "execution_count": 36,
     "metadata": {},
     "output_type": "execute_result"
    }
   ],
   "source": [
    "a=np.zeros(10)\n",
    "a[4]=1\n",
    "a"
   ]
  },
  {
   "cell_type": "code",
   "execution_count": 41,
   "id": "7a3609a5",
   "metadata": {},
   "outputs": [
    {
     "data": {
      "text/plain": [
       "array([10, 11, 12, 13, 14, 15, 16, 17, 18, 19, 20, 21, 22, 23, 24, 25, 26,\n",
       "       27, 28, 29, 30, 31, 32, 33, 34, 35, 36, 37, 38, 39, 40, 41, 42, 43,\n",
       "       44, 45, 46, 47, 48, 49, 50, 51, 52, 53, 54, 55, 56, 57, 58, 59, 60,\n",
       "       61, 62, 63, 64, 65])"
      ]
     },
     "execution_count": 41,
     "metadata": {},
     "output_type": "execute_result"
    }
   ],
   "source": [
    "z=np.arange(10,66)\n",
    "z"
   ]
  },
  {
   "cell_type": "code",
   "execution_count": 42,
   "id": "f44c16bb",
   "metadata": {},
   "outputs": [
    {
     "data": {
      "text/plain": [
       "array([65, 64, 63, 62, 61, 60, 59, 58, 57, 56, 55, 54, 53, 52, 51, 50, 49,\n",
       "       48, 47, 46, 45, 44, 43, 42, 41, 40, 39, 38, 37, 36, 35, 34, 33, 32,\n",
       "       31, 30, 29, 28, 27, 26, 25, 24, 23, 22, 21, 20, 19, 18, 17, 16, 15,\n",
       "       14, 13, 12, 11, 10])"
      ]
     },
     "execution_count": 42,
     "metadata": {},
     "output_type": "execute_result"
    }
   ],
   "source": [
    "z[::-1]"
   ]
  },
  {
   "cell_type": "code",
   "execution_count": 44,
   "id": "a7d637ed",
   "metadata": {},
   "outputs": [
    {
     "name": "stdout",
     "output_type": "stream",
     "text": [
      "[[0 1 2]\n",
      " [3 4 5]\n",
      " [6 7 8]]\n"
     ]
    }
   ],
   "source": [
    "x=np.arange(0,9).reshape(3,3)\n",
    "print(x)"
   ]
  },
  {
   "cell_type": "code",
   "execution_count": null,
   "id": "fff8aa02",
   "metadata": {},
   "outputs": [],
   "source": []
  }
 ],
 "metadata": {
  "kernelspec": {
   "display_name": "Python 3",
   "language": "python",
   "name": "python3"
  },
  "language_info": {
   "codemirror_mode": {
    "name": "ipython",
    "version": 3
   },
   "file_extension": ".py",
   "mimetype": "text/x-python",
   "name": "python",
   "nbconvert_exporter": "python",
   "pygments_lexer": "ipython3",
   "version": "3.8.8"
  }
 },
 "nbformat": 4,
 "nbformat_minor": 5
}
